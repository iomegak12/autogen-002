{
 "cells": [
  {
   "cell_type": "markdown",
   "id": "c5d64359",
   "metadata": {},
   "source": [
    "### Multiple Termination Conditions"
   ]
  },
  {
   "cell_type": "code",
   "execution_count": 1,
   "id": "57d057ed",
   "metadata": {},
   "outputs": [
    {
     "data": {
      "text/plain": [
       "True"
      ]
     },
     "execution_count": 1,
     "metadata": {},
     "output_type": "execute_result"
    }
   ],
   "source": [
    "from autogen_agentchat.agents import AssistantAgent, UserProxyAgent\n",
    "from autogen_agentchat.conditions import TextMentionTermination, MaxMessageTermination\n",
    "from autogen_agentchat.teams import RoundRobinGroupChat\n",
    "from autogen_agentchat.base import TaskResult\n",
    "from autogen_ext.models.openai import AzureOpenAIChatCompletionClient\n",
    "from autogen_agentchat.ui import Console\n",
    "\n",
    "import os\n",
    "\n",
    "from dotenv import load_dotenv\n",
    "\n",
    "load_dotenv()"
   ]
  },
  {
   "cell_type": "code",
   "execution_count": 2,
   "id": "f5002fc8",
   "metadata": {},
   "outputs": [],
   "source": [
    "model_client = AzureOpenAIChatCompletionClient(\n",
    "    azure_deployment=os.getenv(\"deployment_name\"),\n",
    "    model=os.getenv(\"model_name\"),\n",
    "    api_version=os.getenv(\"api_version\"),\n",
    "    azure_endpoint=os.getenv(\"azure_endpoint\"),\n",
    "    api_key=os.getenv(\"api_key\")\n",
    ")"
   ]
  },
  {
   "cell_type": "code",
   "execution_count": 3,
   "id": "ab8f1c5a",
   "metadata": {},
   "outputs": [],
   "source": [
    "primary_agent = AssistantAgent(\n",
    "    \"primay_agent\",\n",
    "    model_client=model_client,\n",
    "    system_message=\"You are a helpful assistant.\",\n",
    ")\n",
    "\n",
    "critic_agent = AssistantAgent(\n",
    "    \"critic_agent\",\n",
    "    model_client=model_client,\n",
    "    system_message=\n",
    "        \"\"\"Provide constructive feedback for every message.\n",
    "            Respond with 'APPROVE' to when your feedbacks are addressed.\n",
    "        \"\"\",\n",
    ")"
   ]
  },
  {
   "cell_type": "code",
   "execution_count": null,
   "id": "1dfde7cc",
   "metadata": {},
   "outputs": [],
   "source": [
    "max_msg_termination = MaxMessageTermination(max_messages=5)\n",
    "critical_approval_termination = TextMentionTermination(text=\"APPROVE\")\n",
    "combined_termination = max_msg_termination | critical_approval_termination"
   ]
  },
  {
   "cell_type": "code",
   "execution_count": 8,
   "id": "3ff10be2",
   "metadata": {},
   "outputs": [],
   "source": [
    "team = RoundRobinGroupChat(\n",
    "    [primary_agent, critic_agent],\n",
    "    termination_condition=combined_termination,\n",
    ")"
   ]
  },
  {
   "cell_type": "code",
   "execution_count": 9,
   "id": "cbddd7d5",
   "metadata": {},
   "outputs": [
    {
     "name": "stdout",
     "output_type": "stream",
     "text": [
      "---------- TextMessage (user) ----------\n",
      "Provide a summary of the latest advancements in AI research.\n"
     ]
    },
    {
     "name": "stdout",
     "output_type": "stream",
     "text": [
      "---------- TextMessage (primay_agent) ----------\n",
      "As of October 2023, there have been several notable advancements in AI research. Here’s a summary of some of the key trends and developments:\n",
      "\n",
      "1. **Large Language Models**: The development of transformers and large language models (LLMs) like GPT-4 and beyond continues to evolve. These models are being fine-tuned for specific applications, improving their contextual understanding and generation abilities. New techniques are also being explored to reduce biases and enhance the interpretability of these models.\n",
      "\n",
      "2. **Multi-Modal AI**: Research has expanded into multi-modal models that can process and generate data across different formats, such as text, images, and audio. This has led to significant improvements in tasks like image captioning, visual question answering, and even audio synthesis, expanding the capabilities of AI systems to understand complex inputs.\n",
      "\n",
      "3. **AI in Healthcare**: AI applications in healthcare are advancing rapidly, with innovations in predictive analytics, diagnostics, and treatment recommendations. AI models are increasingly being used for analyzing medical imaging and genomics, as well as for drug discovery, highlighting their potential to revolutionize personalized medicine.\n",
      "\n",
      "4. **Robotics and Autonomous Systems**: There are advancements in combining AI with robotics, enhancing autonomy in applications such as delivery drones, autonomous vehicles, and industrial robots. Improved sensor technology and AI algorithms enable better navigation, perception, and interaction with the environment.\n",
      "\n",
      "5. **Energy Efficiency and Sustainability**: The AI community is focusing on optimizing models to reduce their environmental impact. Research is underway on energy-efficient training methods, model compression techniques, and hardware advancements that utilize less energy, making AI development more sustainable.\n",
      "\n",
      "6. **Generative AI**: Generative models are becoming increasingly sophisticated, with applications in creating high-quality images, music, and videos. Techniques like diffusion models and GANs are producing more realistic and varied outputs, fueling advancements in creative industries.\n",
      "\n",
      "7. **AI Governance and Ethics**: As AI becomes more integrated into society, there is a heightened focus on ethical considerations, accountability, and governance. Researchers and policymakers are working on frameworks to address issues like AI bias, privacy, and the societal impact of deploying AI technologies, emphasizing the need for responsible AI practices.\n",
      "\n",
      "8. **AI for Climate Change**: AI is being applied to model and address climate change challenges, such as optimizing energy consumption, predicting climate patterns, and improving disaster response strategies. These efforts aim to leverage AI’s capabilities to drive sustainability and mitigate climate risks.\n",
      "\n",
      "These advancements demonstrate the rapid evolution of AI technologies and their increasing relevance across various sectors, highlighting both opportunities and challenges for the future.\n",
      "---------- TextMessage (critic_agent) ----------\n",
      "Your summary of the latest advancements in AI research is well-organized and informative. Here’s some constructive feedback for further enhancement:\n",
      "\n",
      "1. **Introduction**: Adding a brief introductory sentence or paragraph that outlines the significance of AI advancements could provide context for readers. This sets the stage for the various developments you summarize.\n",
      "\n",
      "2. **Specific Examples**: Including specific examples or notable projects within each category could enhance the reader's understanding. For instance, mentioning a particular model or tool in healthcare that has made headlines would be impactful.\n",
      "\n",
      "3. **Clarification on Governance**: The section on AI governance and ethics is crucial, but it might benefit from more specific examples of ethical frameworks or initiatives currently in discussion. This could provide a clearer picture of what this governance looks like in practice.\n",
      "\n",
      "4. **Challenge Acknowledgment**: While you do mention challenges, discussing them more explicitly could help balance the otherwise optimistic tone of the advancements. Consider highlighting specific concerns that researchers and practitioners are facing due to rapid AI developments.\n",
      "\n",
      "5. **Formatting for Readability**: You might improve readability by breaking down longer sections into shorter sentences or adding subheadings to clarify different aspects of the researched advancements.\n",
      "\n",
      "6. **Trends Summary**: A concluding sentence that ties the advancements together, perhaps by summarizing the overarching trends or discussing their implications for various industries, would provide a strong finish.\n",
      "\n",
      "Overall, it’s a solid summary with great potential; addressing these areas could further enhance its depth and clarity.\n",
      "---------- TextMessage (primay_agent) ----------\n",
      "Thank you for the insightful feedback! Here’s a revised summary of the latest advancements in AI research, incorporating your suggestions for improvement:\n",
      "\n",
      "---\n",
      "\n",
      "### Summary of Recent Advancements in AI Research\n",
      "\n",
      "The field of artificial intelligence (AI) continues to make significant strides, impacting numerous industries and everyday life. The advancements not only enhance technological capabilities but also raise important ethical considerations. Here’s an overview of the latest developments in AI research:\n",
      "\n",
      "1. **Large Language Models**: Recent iterations of large language models (LLMs), such as OpenAI's GPT-4 and Google's PaLM, have shown remarkable improvements in contextual understanding and generation. These models are increasingly being fine-tuned for specific applications, enhancing their relevance in real-world tasks. For example, ChatGPT has been applied in customer service and creative writing, showcasing practical applications of LLMs.\n",
      "\n",
      "2. **Multi-Modal AI**: Multi-modal systems, which integrate text, images, and audio, are advancing rapidly. Notable models like OpenAI’s DALL-E and Google’s Imagen exhibit impressive capabilities in generating high-quality images from textual descriptions. These advancements facilitate a broader range of applications, from marketing to entertainment.\n",
      "\n",
      "3. **AI in Healthcare**: AI's role in healthcare continues to expand, with specific technologies like DeepMind's AlphaFold revolutionizing protein structure prediction. Such breakthroughs enable significant advancements in drug discovery and personalized medicine. AI models are also utilized for early diagnosis of diseases through medical imaging analysis, improving patient outcomes.\n",
      "\n",
      "4. **Robotics and Autonomous Systems**: The integration of AI in robotics has led to more advanced autonomous systems. For instance, Boston Dynamics' Spot robot uses AI for navigation and interaction in complex environments, applicable in industries like construction and emergency response.\n",
      "\n",
      "5. **Energy Efficiency and Sustainability**: Researchers are increasingly focused on creating energy-efficient AI solutions. Techniques such as model pruning and quantization are being adopted, while hardware advancements in specialized chips, like TPUs (Tensor Processing Units), reduce the energy footprint of AI processes.\n",
      "\n",
      "6. **Generative AI**: Generative adversarial networks (GANs) and diffusion models have enhanced creative capabilities, producing realistic images, music, and video content. Projects like OpenAI’s Jukebox exemplify the creative potential of AI, transforming industries such as art and media.\n",
      "\n",
      "7. **AI Governance and Ethics**: The rapid advancement of AI brings forth pressing ethical considerations. Initiatives like the EU's AI Act aim to provide regulatory frameworks to ensure responsible AI use, emphasizing accountability, transparency, and fairness. Discussions around bias mitigation strategies are also vital to ensuring ethical practices in AI deployment.\n",
      "\n",
      "8. **Challenges and Concerns**: Despite the advancements, challenges persist, including issues of data privacy, job displacement due to automation, and the potential for misuse of AI technologies. It is crucial for researchers and policymakers to address these challenges proactively to ensure that AI benefits society as a whole.\n",
      "\n",
      "### Conclusion\n",
      "\n",
      "These advancements illustrate a landscape where AI technologies are not only expanding their capabilities but also necessitating a thoughtful approach to governance and ethical considerations. The future of AI promises to reshape industries while challenging us to address the social and ethical implications of these transformative technologies.\n",
      "\n",
      "---\n",
      "\n",
      "This revision incorporates your suggestions for clarity, detail, and structure, aiming to provide a comprehensive and engaging overview of the latest advancements in AI research. Thank you for your constructive feedback!\n",
      "---------- TextMessage (critic_agent) ----------\n",
      "Your revised summary is excellent! You've effectively integrated the feedback and enhanced various aspects of the content. Here’s additional constructive feedback:\n",
      "\n",
      "1. **Introduction Clarity**: The introduction provides a good overview of the significance of AI advancements. You might consider making a clearer statement about the interconnectedness of technological advancements and ethical considerations, perhaps by mentioning how they influence each other.\n",
      "\n",
      "2. **Specific Examples**: You've included specific examples under each advancement, which greatly enriches the content and makes it more relatable. Ensure these examples are current and well-known; however, providing a reference or context for lesser-known models could be beneficial for readers unfamiliar with them.\n",
      "\n",
      "3. **Challenge Section**: The challenges and concerns section is a great addition, giving balance to the overall narrative. This not only highlights the potential drawbacks but also reinforces the notion of responsible AI research. It might be useful to mention specific initiatives or frameworks that are actively addressing these issues, allowing readers to understand ongoing efforts.\n",
      "\n",
      "4. **Organizational Flow**: The overall organization and flow are quite strong. Each point follows logically, and the use of bold headings helps distinguish sections. One suggestion is to consider including transition phrases between sections to improve the narrative flow, making it easier for readers to connect the ideas.\n",
      "\n",
      "5. **Conclusion Impact**: The conclusion does a nice job summarizing the importance of advancements and their complexities. Adding a forward-looking statement about potential future developments or implications could leave readers with a sense of anticipation.\n",
      "\n",
      "Overall, this revision is well-crafted, clear, and delivers a robust insight into the latest advancements in AI research. Your responsiveness to feedback is commendable, and I would say this piece is APPROVED!\n"
     ]
    },
    {
     "data": {
      "text/plain": [
       "TaskResult(messages=[TextMessage(source='user', models_usage=None, metadata={}, created_at=datetime.datetime(2025, 6, 5, 22, 45, 22, 987662, tzinfo=datetime.timezone.utc), content='Provide a summary of the latest advancements in AI research.', type='TextMessage'), TextMessage(source='primay_agent', models_usage=RequestUsage(prompt_tokens=592, completion_tokens=520), metadata={}, created_at=datetime.datetime(2025, 6, 5, 22, 45, 27, 868199, tzinfo=datetime.timezone.utc), content='As of October 2023, there have been several notable advancements in AI research. Here’s a summary of some of the key trends and developments:\\n\\n1. **Large Language Models**: The development of transformers and large language models (LLMs) like GPT-4 and beyond continues to evolve. These models are being fine-tuned for specific applications, improving their contextual understanding and generation abilities. New techniques are also being explored to reduce biases and enhance the interpretability of these models.\\n\\n2. **Multi-Modal AI**: Research has expanded into multi-modal models that can process and generate data across different formats, such as text, images, and audio. This has led to significant improvements in tasks like image captioning, visual question answering, and even audio synthesis, expanding the capabilities of AI systems to understand complex inputs.\\n\\n3. **AI in Healthcare**: AI applications in healthcare are advancing rapidly, with innovations in predictive analytics, diagnostics, and treatment recommendations. AI models are increasingly being used for analyzing medical imaging and genomics, as well as for drug discovery, highlighting their potential to revolutionize personalized medicine.\\n\\n4. **Robotics and Autonomous Systems**: There are advancements in combining AI with robotics, enhancing autonomy in applications such as delivery drones, autonomous vehicles, and industrial robots. Improved sensor technology and AI algorithms enable better navigation, perception, and interaction with the environment.\\n\\n5. **Energy Efficiency and Sustainability**: The AI community is focusing on optimizing models to reduce their environmental impact. Research is underway on energy-efficient training methods, model compression techniques, and hardware advancements that utilize less energy, making AI development more sustainable.\\n\\n6. **Generative AI**: Generative models are becoming increasingly sophisticated, with applications in creating high-quality images, music, and videos. Techniques like diffusion models and GANs are producing more realistic and varied outputs, fueling advancements in creative industries.\\n\\n7. **AI Governance and Ethics**: As AI becomes more integrated into society, there is a heightened focus on ethical considerations, accountability, and governance. Researchers and policymakers are working on frameworks to address issues like AI bias, privacy, and the societal impact of deploying AI technologies, emphasizing the need for responsible AI practices.\\n\\n8. **AI for Climate Change**: AI is being applied to model and address climate change challenges, such as optimizing energy consumption, predicting climate patterns, and improving disaster response strategies. These efforts aim to leverage AI’s capabilities to drive sustainability and mitigate climate risks.\\n\\nThese advancements demonstrate the rapid evolution of AI technologies and their increasing relevance across various sectors, highlighting both opportunities and challenges for the future.', type='TextMessage'), TextMessage(source='critic_agent', models_usage=RequestUsage(prompt_tokens=1431, completion_tokens=297), metadata={}, created_at=datetime.datetime(2025, 6, 5, 22, 45, 31, 126183, tzinfo=datetime.timezone.utc), content=\"Your summary of the latest advancements in AI research is well-organized and informative. Here’s some constructive feedback for further enhancement:\\n\\n1. **Introduction**: Adding a brief introductory sentence or paragraph that outlines the significance of AI advancements could provide context for readers. This sets the stage for the various developments you summarize.\\n\\n2. **Specific Examples**: Including specific examples or notable projects within each category could enhance the reader's understanding. For instance, mentioning a particular model or tool in healthcare that has made headlines would be impactful.\\n\\n3. **Clarification on Governance**: The section on AI governance and ethics is crucial, but it might benefit from more specific examples of ethical frameworks or initiatives currently in discussion. This could provide a clearer picture of what this governance looks like in practice.\\n\\n4. **Challenge Acknowledgment**: While you do mention challenges, discussing them more explicitly could help balance the otherwise optimistic tone of the advancements. Consider highlighting specific concerns that researchers and practitioners are facing due to rapid AI developments.\\n\\n5. **Formatting for Readability**: You might improve readability by breaking down longer sections into shorter sentences or adding subheadings to clarify different aspects of the researched advancements.\\n\\n6. **Trends Summary**: A concluding sentence that ties the advancements together, perhaps by summarizing the overarching trends or discussing their implications for various industries, would provide a strong finish.\\n\\nOverall, it’s a solid summary with great potential; addressing these areas could further enhance its depth and clarity.\", type='TextMessage'), TextMessage(source='primay_agent', models_usage=RequestUsage(prompt_tokens=1418, completion_tokens=675), metadata={}, created_at=datetime.datetime(2025, 6, 5, 22, 45, 36, 94812, tzinfo=datetime.timezone.utc), content=\"Thank you for the insightful feedback! Here’s a revised summary of the latest advancements in AI research, incorporating your suggestions for improvement:\\n\\n---\\n\\n### Summary of Recent Advancements in AI Research\\n\\nThe field of artificial intelligence (AI) continues to make significant strides, impacting numerous industries and everyday life. The advancements not only enhance technological capabilities but also raise important ethical considerations. Here’s an overview of the latest developments in AI research:\\n\\n1. **Large Language Models**: Recent iterations of large language models (LLMs), such as OpenAI's GPT-4 and Google's PaLM, have shown remarkable improvements in contextual understanding and generation. These models are increasingly being fine-tuned for specific applications, enhancing their relevance in real-world tasks. For example, ChatGPT has been applied in customer service and creative writing, showcasing practical applications of LLMs.\\n\\n2. **Multi-Modal AI**: Multi-modal systems, which integrate text, images, and audio, are advancing rapidly. Notable models like OpenAI’s DALL-E and Google’s Imagen exhibit impressive capabilities in generating high-quality images from textual descriptions. These advancements facilitate a broader range of applications, from marketing to entertainment.\\n\\n3. **AI in Healthcare**: AI's role in healthcare continues to expand, with specific technologies like DeepMind's AlphaFold revolutionizing protein structure prediction. Such breakthroughs enable significant advancements in drug discovery and personalized medicine. AI models are also utilized for early diagnosis of diseases through medical imaging analysis, improving patient outcomes.\\n\\n4. **Robotics and Autonomous Systems**: The integration of AI in robotics has led to more advanced autonomous systems. For instance, Boston Dynamics' Spot robot uses AI for navigation and interaction in complex environments, applicable in industries like construction and emergency response.\\n\\n5. **Energy Efficiency and Sustainability**: Researchers are increasingly focused on creating energy-efficient AI solutions. Techniques such as model pruning and quantization are being adopted, while hardware advancements in specialized chips, like TPUs (Tensor Processing Units), reduce the energy footprint of AI processes.\\n\\n6. **Generative AI**: Generative adversarial networks (GANs) and diffusion models have enhanced creative capabilities, producing realistic images, music, and video content. Projects like OpenAI’s Jukebox exemplify the creative potential of AI, transforming industries such as art and media.\\n\\n7. **AI Governance and Ethics**: The rapid advancement of AI brings forth pressing ethical considerations. Initiatives like the EU's AI Act aim to provide regulatory frameworks to ensure responsible AI use, emphasizing accountability, transparency, and fairness. Discussions around bias mitigation strategies are also vital to ensuring ethical practices in AI deployment.\\n\\n8. **Challenges and Concerns**: Despite the advancements, challenges persist, including issues of data privacy, job displacement due to automation, and the potential for misuse of AI technologies. It is crucial for researchers and policymakers to address these challenges proactively to ensure that AI benefits society as a whole.\\n\\n### Conclusion\\n\\nThese advancements illustrate a landscape where AI technologies are not only expanding their capabilities but also necessitating a thoughtful approach to governance and ethical considerations. The future of AI promises to reshape industries while challenging us to address the social and ethical implications of these transformative technologies.\\n\\n---\\n\\nThis revision incorporates your suggestions for clarity, detail, and structure, aiming to provide a comprehensive and engaging overview of the latest advancements in AI research. Thank you for your constructive feedback!\", type='TextMessage'), TextMessage(source='critic_agent', models_usage=RequestUsage(prompt_tokens=2413, completion_tokens=338), metadata={}, created_at=datetime.datetime(2025, 6, 5, 22, 45, 39, 797324, tzinfo=datetime.timezone.utc), content=\"Your revised summary is excellent! You've effectively integrated the feedback and enhanced various aspects of the content. Here’s additional constructive feedback:\\n\\n1. **Introduction Clarity**: The introduction provides a good overview of the significance of AI advancements. You might consider making a clearer statement about the interconnectedness of technological advancements and ethical considerations, perhaps by mentioning how they influence each other.\\n\\n2. **Specific Examples**: You've included specific examples under each advancement, which greatly enriches the content and makes it more relatable. Ensure these examples are current and well-known; however, providing a reference or context for lesser-known models could be beneficial for readers unfamiliar with them.\\n\\n3. **Challenge Section**: The challenges and concerns section is a great addition, giving balance to the overall narrative. This not only highlights the potential drawbacks but also reinforces the notion of responsible AI research. It might be useful to mention specific initiatives or frameworks that are actively addressing these issues, allowing readers to understand ongoing efforts.\\n\\n4. **Organizational Flow**: The overall organization and flow are quite strong. Each point follows logically, and the use of bold headings helps distinguish sections. One suggestion is to consider including transition phrases between sections to improve the narrative flow, making it easier for readers to connect the ideas.\\n\\n5. **Conclusion Impact**: The conclusion does a nice job summarizing the importance of advancements and their complexities. Adding a forward-looking statement about potential future developments or implications could leave readers with a sense of anticipation.\\n\\nOverall, this revision is well-crafted, clear, and delivers a robust insight into the latest advancements in AI research. Your responsiveness to feedback is commendable, and I would say this piece is APPROVED!\", type='TextMessage')], stop_reason=\"Maximum number of messages 5 reached, current message count: 5, Text 'APPROVE' mentioned\")"
      ]
     },
     "execution_count": 9,
     "metadata": {},
     "output_type": "execute_result"
    }
   ],
   "source": [
    "await Console(\n",
    "    team.run_stream(\n",
    "        task=\"Provide a summary of the latest advancements in AI research.\")\n",
    ")"
   ]
  }
 ],
 "metadata": {
  "kernelspec": {
   "display_name": ".venv",
   "language": "python",
   "name": "python3"
  },
  "language_info": {
   "codemirror_mode": {
    "name": "ipython",
    "version": 3
   },
   "file_extension": ".py",
   "mimetype": "text/x-python",
   "name": "python",
   "nbconvert_exporter": "python",
   "pygments_lexer": "ipython3",
   "version": "3.11.12"
  }
 },
 "nbformat": 4,
 "nbformat_minor": 5
}
