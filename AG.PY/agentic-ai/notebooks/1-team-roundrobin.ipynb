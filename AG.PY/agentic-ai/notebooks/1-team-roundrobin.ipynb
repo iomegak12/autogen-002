{
 "cells": [
  {
   "cell_type": "markdown",
   "id": "998fc263",
   "metadata": {},
   "source": [
    "### Team - RoundRobinGroupChat"
   ]
  },
  {
   "cell_type": "code",
   "execution_count": null,
   "id": "a09ec6c0",
   "metadata": {},
   "outputs": [],
   "source": [
    "from autogen_agentchat.agents import AssistantAgent\n",
    "from autogen_agentchat.conditions import TextMentionTermination\n",
    "from autogen_agentchat.teams import RoundRobinGroupChat\n",
    "from autogen_agentchat.base import TaskResult\n",
    "from autogen_ext.models.openai import AzureOpenAIChatCompletionClient\n",
    "from autogen_agentchat.ui import Console\n",
    "\n",
    "import os\n",
    "\n",
    "from dotenv import load_dotenv\n",
    "\n",
    "load_dotenv()"
   ]
  },
  {
   "cell_type": "code",
   "execution_count": null,
   "id": "abecbfe7",
   "metadata": {},
   "outputs": [],
   "source": [
    "model_client = AzureOpenAIChatCompletionClient(\n",
    "    azure_deployment=os.getenv(\"deployment_name\"),\n",
    "    model=os.getenv(\"model_name\"),\n",
    "    api_version=os.getenv(\"api_version\"),\n",
    "    azure_endpoint=os.getenv(\"azure_endpoint\"),\n",
    "    api_key=os.getenv(\"api_key\")\n",
    ")"
   ]
  },
  {
   "cell_type": "code",
   "execution_count": null,
   "id": "a07d815d",
   "metadata": {},
   "outputs": [],
   "source": [
    "blog_post_draft_agent = AssistantAgent(\n",
    "    \"BlogPostDraftAgent\",\n",
    "    model_client=model_client,\n",
    "    system_message=\"You are a blog post draft agent. Your task is to create a draft for a blog post based on the provided topic.\",\n",
    ")\n",
    "\n",
    "blog_post_enhancement_agent = AssistantAgent(\n",
    "    \"BlogPostEnhancementAgent\",\n",
    "    model_client=model_client,\n",
    "    system_message=\"\"\"You are a blog post enhancement agent. \n",
    "            Your task is to enhance the draft provided by the drafting agent.\n",
    "            Focus on improving readability, adding relevant examples, and optimizing for SEO.\n",
    "            If you're satisfied with the final draft, respond with 'FINAL'.\n",
    "        \"\"\",\n",
    ")\n",
    "\n",
    "text_termination = TextMentionTermination(\"FINAL\")\n",
    "\n",
    "team = RoundRobinGroupChat(\n",
    "    [blog_post_draft_agent, blog_post_enhancement_agent],\n",
    "    termination_condition=text_termination,\n",
    ")"
   ]
  },
  {
   "cell_type": "code",
   "execution_count": null,
   "id": "74701b7d",
   "metadata": {},
   "outputs": [],
   "source": [
    "await Console(\n",
    "    team.run_stream(\n",
    "        task=\"Create a blog post about the benefits of meditation.\")\n",
    ")"
   ]
  }
 ],
 "metadata": {
  "kernelspec": {
   "display_name": ".venv",
   "language": "python",
   "name": "python3"
  },
  "language_info": {
   "codemirror_mode": {
    "name": "ipython",
    "version": 3
   },
   "file_extension": ".py",
   "mimetype": "text/x-python",
   "name": "python",
   "nbconvert_exporter": "python",
   "pygments_lexer": "ipython3",
   "version": "3.11.12"
  }
 },
 "nbformat": 4,
 "nbformat_minor": 5
}
