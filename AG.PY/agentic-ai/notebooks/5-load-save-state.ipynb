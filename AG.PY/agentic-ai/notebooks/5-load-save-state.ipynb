{
 "cells": [
  {
   "cell_type": "markdown",
   "id": "2b642725",
   "metadata": {},
   "source": [
    "### Loading and Saving State of Agents"
   ]
  },
  {
   "cell_type": "code",
   "execution_count": null,
   "id": "ef19cf71",
   "metadata": {},
   "outputs": [],
   "source": [
    "from autogen_agentchat.agents import AssistantAgent\n",
    "from autogen_agentchat.conditions import TextMentionTermination, MaxMessageTermination\n",
    "from autogen_agentchat.teams import RoundRobinGroupChat\n",
    "from autogen_agentchat.messages import AgentEvent, ChatMessage, TextMessage\n",
    "from autogen_agentchat.base import TaskResult\n",
    "from autogen_ext.models.openai import AzureOpenAIChatCompletionClient\n",
    "from autogen_agentchat.ui import Console\n",
    "from autogen_core import CancellationToken\n",
    "\n",
    "import os\n",
    "\n",
    "from dotenv import load_dotenv\n",
    "\n",
    "load_dotenv()"
   ]
  },
  {
   "cell_type": "code",
   "execution_count": null,
   "id": "66137597",
   "metadata": {},
   "outputs": [],
   "source": [
    "model_client = AzureOpenAIChatCompletionClient(\n",
    "    azure_deployment=os.getenv(\"deployment_name\"),\n",
    "    model=os.getenv(\"model_name\"),\n",
    "    api_version=os.getenv(\"api_version\"),\n",
    "    azure_endpoint=os.getenv(\"azure_endpoint\"),\n",
    "    api_key=os.getenv(\"api_key\")\n",
    ")"
   ]
  },
  {
   "cell_type": "code",
   "execution_count": null,
   "id": "568dc3a4",
   "metadata": {},
   "outputs": [],
   "source": [
    "assistant_agent = AssistantAgent(\n",
    "    name=\"Assistant\",\n",
    "    model_client=model_client,\n",
    "    system_message=\"You are a fun fact expert about animals.\",\n",
    ")\n",
    "\n",
    "response = await assistant_agent.on_messages(\n",
    "    [\n",
    "        TextMessage(\n",
    "            content=\"Tell me a fun fact about dolphins.\",\n",
    "            source=\"user\"\n",
    "        )\n",
    "    ],\n",
    "    CancellationToken()\n",
    ")"
   ]
  },
  {
   "cell_type": "code",
   "execution_count": null,
   "id": "f1f6a5e0",
   "metadata": {},
   "outputs": [],
   "source": [
    "print(response.chat_message.content)"
   ]
  },
  {
   "cell_type": "code",
   "execution_count": null,
   "id": "44763215",
   "metadata": {},
   "outputs": [],
   "source": [
    "agent_state = await assistant_agent.save_state()\n",
    "\n",
    "print(\"Agent state saved successfully.\")\n",
    "print(agent_state)"
   ]
  },
  {
   "cell_type": "code",
   "execution_count": null,
   "id": "e92ed793",
   "metadata": {},
   "outputs": [],
   "source": [
    "new_assistant_agent = AssistantAgent(\n",
    "    name=\"Assistant\",\n",
    "    model_client=model_client,\n",
    "    system_message=\"You are a fun fact expert about animals.\",\n",
    ")\n",
    "\n",
    "await new_assistant_agent.load_state(agent_state)\n",
    "\n",
    "response = await new_assistant_agent.on_messages(\n",
    "    [\n",
    "        TextMessage(\n",
    "            content=\"what was the fun fact you shared with me about dolphins?\",\n",
    "            source=\"user\"\n",
    "        )\n",
    "    ],\n",
    "    CancellationToken()\n",
    ")"
   ]
  },
  {
   "cell_type": "code",
   "execution_count": null,
   "id": "27d94f49",
   "metadata": {},
   "outputs": [],
   "source": [
    "print(response.chat_message.content)"
   ]
  },
  {
   "cell_type": "code",
   "execution_count": null,
   "id": "d3397a19",
   "metadata": {},
   "outputs": [],
   "source": [
    "assistant_agent = AssistantAgent(\n",
    "    name=\"Assistant\",\n",
    "    model_client=model_client,\n",
    "    system_message=\"You are a helpful assistant, who has abilities to fun facts about animals.\",\n",
    ")\n",
    "\n",
    "agent_team = RoundRobinGroupChat(\n",
    "    [assistant_agent],\n",
    "    termination_condition=MaxMessageTermination(5),\n",
    ")\n",
    "\n",
    "stream = agent_team.run_stream(\n",
    "    task=\"Tell me a fun fact about Octopuses.\",\n",
    ")\n",
    "\n",
    "await Console(stream)"
   ]
  },
  {
   "cell_type": "code",
   "execution_count": null,
   "id": "9e556093",
   "metadata": {},
   "outputs": [],
   "source": [
    "team_state = await agent_team.save_state()\n",
    "print(\"Team state saved successfully.\")\n",
    "print(team_state)"
   ]
  },
  {
   "cell_type": "code",
   "execution_count": null,
   "id": "01a4430e",
   "metadata": {},
   "outputs": [],
   "source": [
    "await agent_team.reset()"
   ]
  },
  {
   "cell_type": "code",
   "execution_count": null,
   "id": "e8d68b33",
   "metadata": {},
   "outputs": [],
   "source": [
    "stream = agent_team.run_stream(\n",
    "    task=\"what was the last animal fact you have shared with me?\",\n",
    ")\n",
    "\n",
    "await Console(stream)"
   ]
  },
  {
   "cell_type": "code",
   "execution_count": null,
   "id": "e217bea8",
   "metadata": {},
   "outputs": [],
   "source": [
    "await agent_team.load_state(team_state)\n",
    "\n",
    "stream = agent_team.run_stream(\n",
    "    task=\"what was the last animal fact you have shared with me?\",\n",
    ")\n",
    "\n",
    "await Console(stream)"
   ]
  },
  {
   "cell_type": "code",
   "execution_count": null,
   "id": "6956af5c",
   "metadata": {},
   "outputs": [],
   "source": [
    "import json\n",
    "\n",
    "with open(\"team_state.json\", \"w\") as f:\n",
    "    json.dump(team_state, f, indent=4, sort_keys=True, default=str)"
   ]
  },
  {
   "cell_type": "code",
   "execution_count": null,
   "id": "6c465e97",
   "metadata": {},
   "outputs": [],
   "source": [
    "new_agent_team = RoundRobinGroupChat(\n",
    "    [assistant_agent],\n",
    "    termination_condition=MaxMessageTermination(5),\n",
    ")\n",
    "\n",
    "with open(\"team_state.json\", \"r\") as f:\n",
    "    team_state = json.load(f)\n",
    "\n",
    "await new_agent_team.load_state(team_state)\n",
    "\n",
    "stream = new_agent_team.run_stream(\n",
    "    task=\"what was the last animal fact you have shared with me?\",\n",
    ")\n",
    "\n",
    "await Console(stream)"
   ]
  }
 ],
 "metadata": {
  "kernelspec": {
   "display_name": ".venv",
   "language": "python",
   "name": "python3"
  },
  "language_info": {
   "codemirror_mode": {
    "name": "ipython",
    "version": 3
   },
   "file_extension": ".py",
   "mimetype": "text/x-python",
   "name": "python",
   "nbconvert_exporter": "python",
   "pygments_lexer": "ipython3",
   "version": "3.11.12"
  }
 },
 "nbformat": 4,
 "nbformat_minor": 5
}
