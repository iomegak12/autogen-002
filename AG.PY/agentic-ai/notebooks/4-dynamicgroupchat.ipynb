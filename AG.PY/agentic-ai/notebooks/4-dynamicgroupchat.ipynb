{
 "cells": [
  {
   "cell_type": "markdown",
   "id": "264bc3d6",
   "metadata": {},
   "source": [
    "### Dynamic Group Chat"
   ]
  },
  {
   "cell_type": "code",
   "execution_count": null,
   "id": "80e34860",
   "metadata": {},
   "outputs": [
    {
     "data": {
      "text/plain": [
       "True"
      ]
     },
     "execution_count": 1,
     "metadata": {},
     "output_type": "execute_result"
    }
   ],
   "source": [
    "from autogen_agentchat.agents import AssistantAgent, UserProxyAgent\n",
    "from autogen_agentchat.conditions import TextMentionTermination, MaxMessageTermination\n",
    "from autogen_agentchat.teams import SelectorGroupChat\n",
    "from autogen_agentchat.messages import AgentEvent, ChatMessage\n",
    "from autogen_agentchat.base import TaskResult\n",
    "from autogen_ext.models.openai import AzureOpenAIChatCompletionClient\n",
    "from autogen_agentchat.ui import Console\n",
    "\n",
    "import os\n",
    "\n",
    "from dotenv import load_dotenv\n",
    "\n",
    "load_dotenv()"
   ]
  },
  {
   "cell_type": "code",
   "execution_count": 2,
   "id": "402a24e6",
   "metadata": {},
   "outputs": [],
   "source": [
    "def weather_check_tool(city: str) -> str:\n",
    "    weather_data = {\n",
    "        \"New York\": \"Sunny, 25°C\",\n",
    "        \"Los Angeles\": \"Cloudy, 22°C\",\n",
    "        \"Chicago\": \"Rainy, 18°C\",\n",
    "        \"London\": \"Windy, 15°C\",\n",
    "        \"Tokyo\": \"Clear, 28°C\"\n",
    "    }\n",
    "\n",
    "    return weather_data.get(city, \"Weather data not available for this city.\")\n",
    "\n",
    "\n",
    "def currency_exchange_tool(amount: float, from_currency: str, to_currency: str) -> str:\n",
    "    exchange_rates = {\n",
    "        \"USD\": {\"EUR\": 0.85, \"JPY\": 110.0},\n",
    "        \"EUR\": {\"USD\": 1.18, \"JPY\": 130.0},\n",
    "        \"JPY\": {\"USD\": 0.0091, \"EUR\": 0.0077},\n",
    "        \"GBP\": {\"USD\": 1.39, \"EUR\": 1.16}\n",
    "    }\n",
    "\n",
    "    if from_currency in exchange_rates and to_currency in exchange_rates[from_currency]:\n",
    "        converted_amount = amount * exchange_rates[from_currency][to_currency]\n",
    "\n",
    "        return f\"{amount} {from_currency} is approximately {converted_amount:.2f} {to_currency}.\"\n",
    "    else:\n",
    "        return \"None of the currencies are supported for conversion.\""
   ]
  },
  {
   "cell_type": "code",
   "execution_count": 3,
   "id": "074213b8",
   "metadata": {},
   "outputs": [],
   "source": [
    "model_client = AzureOpenAIChatCompletionClient(\n",
    "    azure_deployment=os.getenv(\"deployment_name\"),\n",
    "    model=os.getenv(\"model_name\"),\n",
    "    api_version=os.getenv(\"api_version\"),\n",
    "    azure_endpoint=os.getenv(\"azure_endpoint\"),\n",
    "    api_key=os.getenv(\"api_key\")\n",
    ")"
   ]
  },
  {
   "cell_type": "code",
   "execution_count": 6,
   "id": "1b4cd1dc",
   "metadata": {},
   "outputs": [],
   "source": [
    "planning_agent = AssistantAgent(\n",
    "    \"PlanningAgent\",\n",
    "    model_client=model_client,\n",
    "    description=\"\"\"\n",
    "        An agent that plans tasks based on user requests.\n",
    "        It should break down tasks and delegate them to appropriate agents.\n",
    "        \"\"\",\n",
    "    system_message=\n",
    "        \"\"\"\n",
    "            You are a planning agent. \n",
    "            Your task is to break down user requests into smaller tasks and delegate them to appropriate agents.\n",
    "            Your team members are\n",
    "            - WeatherAgent: Provides weather information for a given city.\n",
    "            - CurrencyAgent: Provides currency exchange rates and conversions.\n",
    "            You only plan and delegate tasks, you do not execute them.\n",
    "            \n",
    "            When assignning tasks to agents, use the following format:\n",
    "            1. <agent>: <task>\n",
    "            \n",
    "            After all tasks are complete, summarize the findings and end with \"TERMINATE\".\n",
    "        \"\"\",\n",
    ")\n",
    "\n",
    "weather_agent = AssistantAgent(\n",
    "    \"WeatherAgent\",\n",
    "    model_client=model_client,\n",
    "    description=\"An agent that provides weather information for a given city.\",\n",
    "    system_message=\"\"\"\n",
    "        You are a weather information agent.\n",
    "        Your task is to provide the current weather for a given city.\n",
    "        Use the weather_check_tool to get the weather data.\n",
    "    \"\"\",\n",
    "    tools=[weather_check_tool],\n",
    ")\n",
    "\n",
    "currency_agent = AssistantAgent(\n",
    "    \"CurrencyAgent\",\n",
    "    model_client=model_client,\n",
    "    description=\"An agent that provides currency exchange rates and conversions.\",\n",
    "    system_message=\"\"\"\n",
    "        You are a currency exchange agent.\n",
    "        Your task is to provide currency exchange rates and conversions.\n",
    "        Use the currency_exchange_tool to get the conversion data.\n",
    "    \"\"\",\n",
    "    tools=[currency_exchange_tool],\n",
    ")"
   ]
  },
  {
   "cell_type": "code",
   "execution_count": 7,
   "id": "45c4dc05",
   "metadata": {},
   "outputs": [],
   "source": [
    "text_mention_termination = TextMentionTermination(\"TERMINATE\")\n",
    "max_messages_termination = MaxMessageTermination(25)\n",
    "termination = text_mention_termination | max_messages_termination"
   ]
  },
  {
   "cell_type": "code",
   "execution_count": 8,
   "id": "5bba9f9f",
   "metadata": {},
   "outputs": [],
   "source": [
    "from typing import Sequence\n",
    "\n",
    "\n",
    "def selector_func(messages: Sequence[AgentEvent | ChatMessage]) -> str | None:\n",
    "    if messages[-1].source != planning_agent.name:\n",
    "        return planning_agent.name\n",
    "    return None"
   ]
  },
  {
   "cell_type": "code",
   "execution_count": 9,
   "id": "32ae610e",
   "metadata": {},
   "outputs": [],
   "source": [
    "team = SelectorGroupChat(\n",
    "    [planning_agent, weather_agent, currency_agent],\n",
    "    model_client=model_client,\n",
    "    termination_condition=termination,\n",
    "    allow_repeated_speaker=True,\n",
    "    selector_func=selector_func,\n",
    ")"
   ]
  },
  {
   "cell_type": "code",
   "execution_count": 11,
   "id": "b15b3c1d",
   "metadata": {},
   "outputs": [
    {
     "name": "stdout",
     "output_type": "stream",
     "text": [
      "---------- TextMessage (user) ----------\n",
      "What is the current weather in New York and how much is 100 USD in EUR?\n",
      "---------- TextMessage (PlanningAgent) ----------\n",
      "1. WeatherAgent: Provide the current weather information for New York.\n",
      "2. CurrencyAgent: Provide the current exchange rate and convert 100 USD to EUR. \n",
      "\n",
      "After the tasks are complete, I will summarize the findings. \n",
      "---------- ToolCallRequestEvent (WeatherAgent) ----------\n",
      "[FunctionCall(id='call_ouRe0ys46CLdDhhiTUButsHa', arguments='{\"city\": \"New York\"}', name='weather_check_tool'), FunctionCall(id='call_Bpqv7Fud8dtjjJHuLIjCeJzA', arguments='{\"city\": \"USD to EUR\"}', name='weather_check_tool')]\n",
      "---------- ToolCallExecutionEvent (WeatherAgent) ----------\n",
      "[FunctionExecutionResult(content='Sunny, 25°C', name='weather_check_tool', call_id='call_ouRe0ys46CLdDhhiTUButsHa', is_error=False), FunctionExecutionResult(content='Weather data not available for this city.', name='weather_check_tool', call_id='call_Bpqv7Fud8dtjjJHuLIjCeJzA', is_error=False)]\n",
      "---------- ToolCallSummaryMessage (WeatherAgent) ----------\n",
      "Sunny, 25°C\n",
      "Weather data not available for this city.\n",
      "---------- TextMessage (PlanningAgent) ----------\n",
      "1. WeatherAgent: Provide the current weather information for New York again since the initial attempt did not yield results.\n",
      "2. CurrencyAgent: Provide the current exchange rate and convert 100 USD to EUR.\n",
      "\n",
      "Once these tasks are complete, I will summarize the findings.\n",
      "---------- ToolCallRequestEvent (CurrencyAgent) ----------\n",
      "[FunctionCall(id='call_Rp4PQPfIBQHosrpvCu1qPS0L', arguments='{\"amount\": 100, \"from_currency\": \"USD\", \"to_currency\": \"EUR\"}', name='currency_exchange_tool')]\n",
      "---------- ToolCallExecutionEvent (CurrencyAgent) ----------\n",
      "[FunctionExecutionResult(content='100.0 USD is approximately 85.00 EUR.', name='currency_exchange_tool', call_id='call_Rp4PQPfIBQHosrpvCu1qPS0L', is_error=False)]\n",
      "---------- ToolCallSummaryMessage (CurrencyAgent) ----------\n",
      "100.0 USD is approximately 85.00 EUR.\n",
      "---------- TextMessage (PlanningAgent) ----------\n",
      "1. WeatherAgent: Provide the current weather information for New York again as the previous responses were unclear or unavailable.\n",
      "\n",
      "Once these tasks are complete, I will summarize the findings.\n",
      "---------- ToolCallRequestEvent (WeatherAgent) ----------\n",
      "[FunctionCall(id='call_3zNOj4Q5KTlAGeffniKSTezu', arguments='{\"city\":\"New York\"}', name='weather_check_tool')]\n",
      "---------- ToolCallExecutionEvent (WeatherAgent) ----------\n",
      "[FunctionExecutionResult(content='Sunny, 25°C', name='weather_check_tool', call_id='call_3zNOj4Q5KTlAGeffniKSTezu', is_error=False)]\n",
      "---------- ToolCallSummaryMessage (WeatherAgent) ----------\n",
      "Sunny, 25°C\n",
      "---------- TextMessage (PlanningAgent) ----------\n",
      "Summary of findings:\n",
      "- The current weather in New York is sunny with a temperature of 25°C.\n",
      "- 100 USD is approximately 85.00 EUR.\n",
      "\n",
      "TERMINATE.\n"
     ]
    },
    {
     "data": {
      "text/plain": [
       "TaskResult(messages=[TextMessage(source='user', models_usage=None, metadata={}, created_at=datetime.datetime(2025, 6, 5, 23, 8, 15, 18906, tzinfo=datetime.timezone.utc), content='What is the current weather in New York and how much is 100 USD in EUR?', type='TextMessage'), TextMessage(source='PlanningAgent', models_usage=RequestUsage(prompt_tokens=145, completion_tokens=47), metadata={}, created_at=datetime.datetime(2025, 6, 5, 23, 8, 22, 496844, tzinfo=datetime.timezone.utc), content='1. WeatherAgent: Provide the current weather information for New York.\\n2. CurrencyAgent: Provide the current exchange rate and convert 100 USD to EUR. \\n\\nAfter the tasks are complete, I will summarize the findings. ', type='TextMessage'), ToolCallRequestEvent(source='WeatherAgent', models_usage=RequestUsage(prompt_tokens=152, completion_tokens=50), metadata={}, created_at=datetime.datetime(2025, 6, 5, 23, 8, 24, 244829, tzinfo=datetime.timezone.utc), content=[FunctionCall(id='call_ouRe0ys46CLdDhhiTUButsHa', arguments='{\"city\": \"New York\"}', name='weather_check_tool'), FunctionCall(id='call_Bpqv7Fud8dtjjJHuLIjCeJzA', arguments='{\"city\": \"USD to EUR\"}', name='weather_check_tool')], type='ToolCallRequestEvent'), ToolCallExecutionEvent(source='WeatherAgent', models_usage=None, metadata={}, created_at=datetime.datetime(2025, 6, 5, 23, 8, 24, 249751, tzinfo=datetime.timezone.utc), content=[FunctionExecutionResult(content='Sunny, 25°C', name='weather_check_tool', call_id='call_ouRe0ys46CLdDhhiTUButsHa', is_error=False), FunctionExecutionResult(content='Weather data not available for this city.', name='weather_check_tool', call_id='call_Bpqv7Fud8dtjjJHuLIjCeJzA', is_error=False)], type='ToolCallExecutionEvent'), ToolCallSummaryMessage(source='WeatherAgent', models_usage=None, metadata={}, created_at=datetime.datetime(2025, 6, 5, 23, 8, 24, 250107, tzinfo=datetime.timezone.utc), content='Sunny, 25°C\\nWeather data not available for this city.', type='ToolCallSummaryMessage', tool_calls=[FunctionCall(id='call_ouRe0ys46CLdDhhiTUButsHa', arguments='{\"city\": \"New York\"}', name='weather_check_tool'), FunctionCall(id='call_Bpqv7Fud8dtjjJHuLIjCeJzA', arguments='{\"city\": \"USD to EUR\"}', name='weather_check_tool')], results=[FunctionExecutionResult(content='Sunny, 25°C', name='weather_check_tool', call_id='call_ouRe0ys46CLdDhhiTUButsHa', is_error=False), FunctionExecutionResult(content='Weather data not available for this city.', name='weather_check_tool', call_id='call_Bpqv7Fud8dtjjJHuLIjCeJzA', is_error=False)]), TextMessage(source='PlanningAgent', models_usage=RequestUsage(prompt_tokens=216, completion_tokens=54), metadata={}, created_at=datetime.datetime(2025, 6, 5, 23, 8, 25, 168424, tzinfo=datetime.timezone.utc), content='1. WeatherAgent: Provide the current weather information for New York again since the initial attempt did not yield results.\\n2. CurrencyAgent: Provide the current exchange rate and convert 100 USD to EUR.\\n\\nOnce these tasks are complete, I will summarize the findings.', type='TextMessage'), ToolCallRequestEvent(source='CurrencyAgent', models_usage=RequestUsage(prompt_tokens=255, completion_tokens=42), metadata={}, created_at=datetime.datetime(2025, 6, 5, 23, 8, 26, 416788, tzinfo=datetime.timezone.utc), content=[FunctionCall(id='call_Rp4PQPfIBQHosrpvCu1qPS0L', arguments='{\"amount\": 100, \"from_currency\": \"USD\", \"to_currency\": \"EUR\"}', name='currency_exchange_tool')], type='ToolCallRequestEvent'), ToolCallExecutionEvent(source='CurrencyAgent', models_usage=None, metadata={}, created_at=datetime.datetime(2025, 6, 5, 23, 8, 26, 424003, tzinfo=datetime.timezone.utc), content=[FunctionExecutionResult(content='100.0 USD is approximately 85.00 EUR.', name='currency_exchange_tool', call_id='call_Rp4PQPfIBQHosrpvCu1qPS0L', is_error=False)], type='ToolCallExecutionEvent'), ToolCallSummaryMessage(source='CurrencyAgent', models_usage=None, metadata={}, created_at=datetime.datetime(2025, 6, 5, 23, 8, 26, 424460, tzinfo=datetime.timezone.utc), content='100.0 USD is approximately 85.00 EUR.', type='ToolCallSummaryMessage', tool_calls=[FunctionCall(id='call_Rp4PQPfIBQHosrpvCu1qPS0L', arguments='{\"amount\": 100, \"from_currency\": \"USD\", \"to_currency\": \"EUR\"}', name='currency_exchange_tool')], results=[FunctionExecutionResult(content='100.0 USD is approximately 85.00 EUR.', name='currency_exchange_tool', call_id='call_Rp4PQPfIBQHosrpvCu1qPS0L', is_error=False)]), TextMessage(source='PlanningAgent', models_usage=RequestUsage(prompt_tokens=292, completion_tokens=36), metadata={}, created_at=datetime.datetime(2025, 6, 5, 23, 8, 27, 155000, tzinfo=datetime.timezone.utc), content='1. WeatherAgent: Provide the current weather information for New York again as the previous responses were unclear or unavailable.\\n\\nOnce these tasks are complete, I will summarize the findings.', type='TextMessage'), ToolCallRequestEvent(source='WeatherAgent', models_usage=RequestUsage(prompt_tokens=353, completion_tokens=17), metadata={}, created_at=datetime.datetime(2025, 6, 5, 23, 8, 28, 262073, tzinfo=datetime.timezone.utc), content=[FunctionCall(id='call_3zNOj4Q5KTlAGeffniKSTezu', arguments='{\"city\":\"New York\"}', name='weather_check_tool')], type='ToolCallRequestEvent'), ToolCallExecutionEvent(source='WeatherAgent', models_usage=None, metadata={}, created_at=datetime.datetime(2025, 6, 5, 23, 8, 28, 267797, tzinfo=datetime.timezone.utc), content=[FunctionExecutionResult(content='Sunny, 25°C', name='weather_check_tool', call_id='call_3zNOj4Q5KTlAGeffniKSTezu', is_error=False)], type='ToolCallExecutionEvent'), ToolCallSummaryMessage(source='WeatherAgent', models_usage=None, metadata={}, created_at=datetime.datetime(2025, 6, 5, 23, 8, 28, 268246, tzinfo=datetime.timezone.utc), content='Sunny, 25°C', type='ToolCallSummaryMessage', tool_calls=[FunctionCall(id='call_3zNOj4Q5KTlAGeffniKSTezu', arguments='{\"city\":\"New York\"}', name='weather_check_tool')], results=[FunctionExecutionResult(content='Sunny, 25°C', name='weather_check_tool', call_id='call_3zNOj4Q5KTlAGeffniKSTezu', is_error=False)]), TextMessage(source='PlanningAgent', models_usage=RequestUsage(prompt_tokens=343, completion_tokens=38), metadata={}, created_at=datetime.datetime(2025, 6, 5, 23, 8, 29, 56171, tzinfo=datetime.timezone.utc), content='Summary of findings:\\n- The current weather in New York is sunny with a temperature of 25°C.\\n- 100 USD is approximately 85.00 EUR.\\n\\nTERMINATE.', type='TextMessage')], stop_reason=\"Text 'TERMINATE' mentioned\")"
      ]
     },
     "execution_count": 11,
     "metadata": {},
     "output_type": "execute_result"
    }
   ],
   "source": [
    "task = \"What is the current weather in New York and how much is 100 USD in EUR?\"\n",
    "\n",
    "await Console(\n",
    "    team.run_stream(task = task))"
   ]
  }
 ],
 "metadata": {
  "kernelspec": {
   "display_name": ".venv",
   "language": "python",
   "name": "python3"
  },
  "language_info": {
   "codemirror_mode": {
    "name": "ipython",
    "version": 3
   },
   "file_extension": ".py",
   "mimetype": "text/x-python",
   "name": "python",
   "nbconvert_exporter": "python",
   "pygments_lexer": "ipython3",
   "version": "3.11.12"
  }
 },
 "nbformat": 4,
 "nbformat_minor": 5
}
