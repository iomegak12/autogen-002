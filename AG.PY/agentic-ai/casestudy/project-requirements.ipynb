{
 "cells": [
  {
   "cell_type": "markdown",
   "id": "5773dee3",
   "metadata": {},
   "source": [
    "### Multi-Agent Chatbot for Customer Support\n"
   ]
  },
  {
   "cell_type": "markdown",
   "id": "62e7a10f",
   "metadata": {},
   "source": [
    "Project Overview\n",
    "\n",
    "The Multi-Agent AI Chatbot for Customer Support is a conversational AI system that utilizes multiple specialized agents to handle customer inquiries related to Product Information, Orer Placement, Order Status and Complaint Registrations. The Chatbot is built using Steamlit for the Front-End, FastAPI for the Back-end, and AutoGent's Multi-Agent Framework for Task Delegation and Execution."
   ]
  },
  {
   "cell_type": "markdown",
   "id": "d2c6a1e2",
   "metadata": {},
   "source": [
    "Key Features\n",
    "\n",
    "- Product Inquiry\n",
    "- Order Placement\n",
    "- Order Status Tracking\n",
    "- Complaint Registration\n",
    "- Multi-Agent Collaboration\n",
    "    - Dynamic Selection of Agents\n",
    "    - Routing\n",
    "    - Hand-Offs"
   ]
  },
  {
   "cell_type": "markdown",
   "id": "62ce78ca",
   "metadata": {},
   "source": [
    "Technology Stack\n",
    "\n",
    "- Database (In-Memory List and Dictionaries for Products, Orders and Complaints)\n",
    "- Back-End (FastAPI and Uvicorn for REST API Development and Hosting)\n",
    "- Front-End (Streamlit)\n",
    "- AI Model (gpt-4o)\n",
    "- Multi-Agent Framework (AutoGen)"
   ]
  },
  {
   "cell_type": "markdown",
   "id": "5e6d553c",
   "metadata": {},
   "source": [
    "Future Enhancements\n",
    "\n",
    "- Integration with a Database\n",
    "- Voice Integration Support\n",
    "- Multi-Language Support\n",
    "- Improved NLP Capabilities for Products, Orders or Complaints Search"
   ]
  }
 ],
 "metadata": {
  "language_info": {
   "name": "python"
  }
 },
 "nbformat": 4,
 "nbformat_minor": 5
}
