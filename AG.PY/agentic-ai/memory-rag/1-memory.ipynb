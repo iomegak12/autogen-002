{
 "cells": [
  {
   "cell_type": "markdown",
   "id": "1c4d44d1",
   "metadata": {},
   "source": [
    "### Understanding Memory"
   ]
  },
  {
   "cell_type": "code",
   "execution_count": null,
   "id": "1ed7ec91",
   "metadata": {},
   "outputs": [],
   "source": [
    "from autogen_agentchat.agents import AssistantAgent\n",
    "from autogen_agentchat.ui import Console\n",
    "from autogen_core.memory import ListMemory, MemoryContent, MemoryMimeType\n",
    "from autogen_ext.models.openai import AzureOpenAIChatCompletionClient\n",
    "\n",
    "import os\n",
    "\n",
    "from dotenv import load_dotenv\n",
    "\n",
    "load_dotenv(override=True)"
   ]
  },
  {
   "cell_type": "code",
   "execution_count": null,
   "id": "7a4aebba",
   "metadata": {},
   "outputs": [],
   "source": [
    "user_memory = ListMemory()\n",
    "\n",
    "await user_memory.add(\n",
    "    MemoryContent(\n",
    "        content=\"The weather should be in metric units.\",\n",
    "        mime_type=MemoryMimeType.TEXT,\n",
    "    )\n",
    ")\n",
    "\n",
    "await user_memory.add(\n",
    "    MemoryContent(\n",
    "        content=\"The user prefers to be called 'Alex'.\",\n",
    "        mime_type=MemoryMimeType.TEXT,\n",
    "    )\n",
    ")\n",
    "\n",
    "await user_memory.add(\n",
    "    MemoryContent(\n",
    "        content=\"The user prefers meal recipe that are vegetarian, especially vegan.\",\n",
    "        mime_type=MemoryMimeType.TEXT,\n",
    "    )\n",
    ")"
   ]
  },
  {
   "cell_type": "code",
   "execution_count": null,
   "id": "35d1496a",
   "metadata": {},
   "outputs": [],
   "source": [
    "async def get_weather(city: str, units: str = \"imperial\") -> str:\n",
    "    # Simulate a weather API call\n",
    "    if units == \"metric\":\n",
    "        return f\"The weather in {city} is 20°C with clear skies.\"\n",
    "    elif units == \"imperial\":\n",
    "        return f\"The weather in {city} is 68°F with clear skies.\"\n",
    "    else:\n",
    "        return f\"The weather in {city} is unavailable for the specified units.\""
   ]
  },
  {
   "cell_type": "code",
   "execution_count": null,
   "id": "e631cfa6",
   "metadata": {},
   "outputs": [],
   "source": [
    "assistant = AssistantAgent(\n",
    "    name=\"WeatherAssistant\",\n",
    "    description=\"An assistant that provides weather information and meal recipes.\",\n",
    "    model_client=AzureOpenAIChatCompletionClient(\n",
    "        azure_deployment=os.getenv(\"deployment_name\"),\n",
    "        model=os.getenv(\"model_name\"),\n",
    "        api_version=os.getenv(\"api_version\"),\n",
    "        azure_endpoint=os.getenv(\"azure_endpoint\"),\n",
    "        api_key=os.getenv(\"api_key\")\n",
    "    ),\n",
    "    tools=[get_weather],\n",
    "    memory=[user_memory],\n",
    ")"
   ]
  },
  {
   "cell_type": "code",
   "execution_count": null,
   "id": "d4507490",
   "metadata": {},
   "outputs": [],
   "source": [
    "stream = assistant.run_stream(\n",
    "    task = \"Whats the weather in Paris?\",\n",
    ")\n",
    "\n",
    "await Console(stream)\n"
   ]
  },
  {
   "cell_type": "code",
   "execution_count": null,
   "id": "b001a634",
   "metadata": {},
   "outputs": [],
   "source": [
    "stream = assistant.run_stream(\n",
    "    task = \"Also, can you suggest a meal recipe?\",\n",
    ")\n",
    "\n",
    "await Console(stream)"
   ]
  }
 ],
 "metadata": {
  "kernelspec": {
   "display_name": ".venv",
   "language": "python",
   "name": "python3"
  },
  "language_info": {
   "codemirror_mode": {
    "name": "ipython",
    "version": 3
   },
   "file_extension": ".py",
   "mimetype": "text/x-python",
   "name": "python",
   "nbconvert_exporter": "python",
   "pygments_lexer": "ipython3",
   "version": "3.11.12"
  }
 },
 "nbformat": 4,
 "nbformat_minor": 5
}
